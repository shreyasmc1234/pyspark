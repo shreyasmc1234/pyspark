{
 "cells": [
  {
   "cell_type": "markdown",
   "metadata": {
    "application/vnd.databricks.v1+cell": {
     "cellMetadata": {},
     "inputWidgets": {},
     "nuid": "1c70918a-ed5f-4d59-8bb8-8b96cb5533ab",
     "showTitle": false,
     "tableResultSettingsMap": {},
     "title": ""
    }
   },
   "source": [
    "### Reading the data"
   ]
  },
  {
   "cell_type": "code",
   "execution_count": 0,
   "metadata": {
    "application/vnd.databricks.v1+cell": {
     "cellMetadata": {},
     "inputWidgets": {},
     "nuid": "64135c1b-11d8-4fb4-a351-179d0981a71f",
     "showTitle": false,
     "tableResultSettingsMap": {},
     "title": ""
    }
   },
   "outputs": [],
   "source": [
    "#Reading the CSV format \n",
    "\n",
    "df = spark.read.format('csv').option('inferSchema',True).option('header',True).load('/FileStore/tables/BigMart_Sales-1.csv')\n",
    "\n",
    "#Reading the JSON format\n",
    "\n",
    "df1 = spark.read.format('json').option('Inferschema',True).option('header',True)\\\n",
    "    .option('multiline',False).load('/FileStore/tables/drivers.json')\n",
    "\n",
    "#To display the data which is loaded\n",
    "df.display() \n",
    "df.show()\n",
    "\n",
    "#To display the schema\n",
    "df.printSchema"
   ]
  },
  {
   "cell_type": "markdown",
   "metadata": {
    "application/vnd.databricks.v1+cell": {
     "cellMetadata": {},
     "inputWidgets": {},
     "nuid": "888a026c-e697-42fb-b9a6-25ac7c587eab",
     "showTitle": false,
     "tableResultSettingsMap": {},
     "title": ""
    }
   },
   "source": [
    "### StructType and DDL Schema"
   ]
  },
  {
   "cell_type": "code",
   "execution_count": 0,
   "metadata": {
    "application/vnd.databricks.v1+cell": {
     "cellMetadata": {
      "byteLimit": 2048000,
      "rowLimit": 10000
     },
     "inputWidgets": {},
     "nuid": "d4d76bb0-4c90-462a-b254-de26356f86b9",
     "showTitle": false,
     "tableResultSettingsMap": {},
     "title": ""
    }
   },
   "outputs": [],
   "source": [
    "#Creating our own predefined schema\n",
    "\n",
    "df_schema='''\n",
    "\n",
    "Item_Identifier string,\n",
    "Item_Weight STRING,\n",
    "Item_Fat_Content string, \n",
    "Item_Visibility double,\n",
    "Item_Type string,\n",
    "Item_MRP double,\n",
    "Outlet_Identifier string, \n",
    "Outlet_Establishment_Year integer,\n",
    "Outlet_Size string,\n",
    "Outlet_Location_Type string, \n",
    "Outlet_Type string,\n",
    "Item_Outlet_Sales double \n",
    "\n",
    "'''\n",
    "\n",
    "df = spark.read.format('csv').schema(df_schema).option('header',True).load('/FileStore/tables/BigMart_Sales-1.csv')\n",
    "\n",
    "#Importing libaries to use StructType Schema\n",
    "from pyspark.sql.types import *\n",
    "from pyspark.sql.functions import *\n",
    "\n",
    "df = StructType([\n",
    "    StructField('Item_Identifier', StringType(), True),\n",
    "    StructField('Item_Weight', StringType(), True),\n",
    "    StructField('Item_Fat_Content', StringType(), True),\n",
    "    StructField('Item_Visibility', DoubleType(), True),\n",
    "    StructField('Item_Type', StringType(), True),\n",
    "    StructField('Item_MRP', DoubleType(), True),\n",
    "    StructField('Outlet_Identifier', StringType(), True),\n",
    "    StructField('Outlet_Establishment_Year', IntegerType(), True),\n",
    "    StructField('Outlet_Size', StringType(), True),\n",
    "    StructField('Outlet_Location_Type', StringType(), True),\n",
    "    StructField('Outlet_Type', StringType(), True),\n",
    "    StructField('Item_Outlet_Sales', DoubleType(), True)\n",
    "]\n",
    ")\n",
    "\n",
    "df_1 = spark.read.format('csv').schema(df).option('Header',True).load('/FileStore/tables/BigMart_Sales-1.csv')\n",
    "\n",
    "\n",
    "\n"
   ]
  },
  {
   "cell_type": "markdown",
   "metadata": {
    "application/vnd.databricks.v1+cell": {
     "cellMetadata": {},
     "inputWidgets": {},
     "nuid": "82958907-a572-4ec5-ac59-ef111723b8eb",
     "showTitle": false,
     "tableResultSettingsMap": {},
     "title": ""
    }
   },
   "source": [
    "### Transforming the Data"
   ]
  },
  {
   "cell_type": "code",
   "execution_count": 0,
   "metadata": {
    "application/vnd.databricks.v1+cell": {
     "cellMetadata": {
      "byteLimit": 2048000,
      "rowLimit": 10000
     },
     "inputWidgets": {},
     "nuid": "1bc8555a-88f1-4b59-801c-878db075be27",
     "showTitle": false,
     "tableResultSettingsMap": {},
     "title": ""
    }
   },
   "outputs": [],
   "source": [
    "#Select\n",
    "\n",
    "df.select('Item_identifier','Item_Weight','Item_Fat_content').display()\n",
    "df.select(col('Item_Identifier'),col('Item_Weight')).display()\n",
    "\n",
    "#Alias\n",
    "\n",
    "df.select(col(\"Item_identifier\").alias(\"Item_Number\")).display()\n",
    "\n",
    "#Filter\n",
    "\n",
    "df.filter(col('Item_fat_content')=='Regular').display()\n",
    "df.filter((col('Item_Weight')<10) & (col('Item_Type')=='Soft Drinks') ).display()\n",
    "df.filter((col('outlet_size').isNull()) & (col('outlet_location_type').isin ('Tier 1','Tier 2'))).display()\n",
    "df.filter((col('Item_Identifier')=='FDH17') & (col('item_weight').isNotNull()) & (col('Outlet_Identifier').isin('OUT017'))).display()\n",
    "\n",
    "#Renaming the column\n",
    "\n",
    "df.withColumnRenamed('Item_Fat_content','Fat_content').display()\n",
    "\n",
    "#Adding new Column\n",
    "\n",
    "df.withColumn('Flag',lit('new')).display()\n",
    "df.withColumn('Total Cost',col('Item_weight')*col('Item_MRP') ).display()\n",
    "df.withColumn(\"Item_fat_content\",regexp_replace(col('Item_fat_content'),'Regular','Reg'))\\\n",
    "    .withColumn('Item_fat_content',regexp_replace(col('Item_fat_content'),\"Low Fat\",'Lf')).display()\n",
    "\n",
    "#TypeCasting\n",
    "\n",
    "df=df.withColumn('Item_weight',col('Item_weight').cast(StringType()))\n",
    "\n",
    "#Sorting\n",
    "\n",
    "df.sort(col('Item_weight').desc()).display()\n",
    "df.sort(['item_weight','item_visibility'],ascending=[0,0]).display()\n",
    "df.sort(['item_weight','item_type'],ascending=[0,1]).display()\n",
    "df.sort(['Item_visibility','Item_type'],asceding=[0,0]).display()\n",
    "\n",
    "#Limit\n",
    "\n",
    "df.limit(10).display()\n",
    "\n",
    "#Drop\n",
    "\n",
    "df.drop('Item_Weight','Item_Identifier').display()\n",
    "\n",
    "#DropDuplicates\n",
    "\n",
    "df.dropDuplicates().display()\n",
    "df.drop_duplicates(subset=['Item_type']).display()\n",
    "\n",
    "#Distinct \n",
    "\n",
    "df.distinct().display()"
   ]
  },
  {
   "cell_type": "markdown",
   "metadata": {
    "application/vnd.databricks.v1+cell": {
     "cellMetadata": {},
     "inputWidgets": {},
     "nuid": "84a3f949-c572-42cc-865e-b3a8c30ac3e1",
     "showTitle": false,
     "tableResultSettingsMap": {},
     "title": ""
    }
   },
   "source": [
    "### Union and UnionByName"
   ]
  },
  {
   "cell_type": "code",
   "execution_count": 0,
   "metadata": {
    "application/vnd.databricks.v1+cell": {
     "cellMetadata": {
      "byteLimit": 2048000,
      "rowLimit": 10000
     },
     "inputWidgets": {},
     "nuid": "941b1752-29b6-4e92-b9c6-163f7dc15ef0",
     "showTitle": false,
     "tableResultSettingsMap": {},
     "title": ""
    }
   },
   "outputs": [
    {
     "output_type": "display_data",
     "data": {
      "text/html": [
       "<style scoped>\n",
       "  .table-result-container {\n",
       "    max-height: 300px;\n",
       "    overflow: auto;\n",
       "  }\n",
       "  table, th, td {\n",
       "    border: 1px solid black;\n",
       "    border-collapse: collapse;\n",
       "  }\n",
       "  th, td {\n",
       "    padding: 5px;\n",
       "  }\n",
       "  th {\n",
       "    text-align: left;\n",
       "  }\n",
       "</style><div class='table-result-container'><table class='table-result'><thead style='background-color: white'><tr><th>id</th><th>name</th></tr></thead><tbody><tr><td>1</td><td>Shreyas</td></tr><tr><td>2</td><td>Ram</td></tr><tr><td>3</td><td>Vivek</td></tr><tr><td>4</td><td>Kumar</td></tr></tbody></table></div>"
      ]
     },
     "metadata": {
      "application/vnd.databricks.v1+output": {
       "addedWidgets": {},
       "aggData": [],
       "aggError": "",
       "aggOverflow": false,
       "aggSchema": [],
       "aggSeriesLimitReached": false,
       "aggType": "",
       "arguments": {},
       "columnCustomDisplayInfos": {},
       "data": [
        [
         "1",
         "Shreyas"
        ],
        [
         "2",
         "Ram"
        ],
        [
         "3",
         "Vivek"
        ],
        [
         "4",
         "Kumar"
        ]
       ],
       "datasetInfos": [],
       "dbfsResultPath": null,
       "isJsonSchema": true,
       "metadata": {},
       "overflow": false,
       "plotOptions": {
        "customPlotOptions": {},
        "displayType": "table",
        "pivotAggregation": null,
        "pivotColumns": null,
        "xColumns": null,
        "yColumns": null
       },
       "removedWidgets": [],
       "schema": [
        {
         "metadata": "{}",
         "name": "id",
         "type": "\"string\""
        },
        {
         "metadata": "{}",
         "name": "name",
         "type": "\"string\""
        }
       ],
       "type": "table"
      }
     },
     "output_type": "display_data"
    },
    {
     "output_type": "display_data",
     "data": {
      "text/html": [
       "<style scoped>\n",
       "  .table-result-container {\n",
       "    max-height: 300px;\n",
       "    overflow: auto;\n",
       "  }\n",
       "  table, th, td {\n",
       "    border: 1px solid black;\n",
       "    border-collapse: collapse;\n",
       "  }\n",
       "  th, td {\n",
       "    padding: 5px;\n",
       "  }\n",
       "  th {\n",
       "    text-align: left;\n",
       "  }\n",
       "</style><div class='table-result-container'><table class='table-result'><thead style='background-color: white'><tr><th>name</th><th>id</th></tr></thead><tbody><tr><td>Vivek</td><td>3</td></tr><tr><td>Himani</td><td>4</td></tr></tbody></table></div>"
      ]
     },
     "metadata": {
      "application/vnd.databricks.v1+output": {
       "addedWidgets": {},
       "aggData": [],
       "aggError": "",
       "aggOverflow": false,
       "aggSchema": [],
       "aggSeriesLimitReached": false,
       "aggType": "",
       "arguments": {},
       "columnCustomDisplayInfos": {},
       "data": [
        [
         "Vivek",
         "3"
        ],
        [
         "Himani",
         "4"
        ]
       ],
       "datasetInfos": [],
       "dbfsResultPath": null,
       "isJsonSchema": true,
       "metadata": {},
       "overflow": false,
       "plotOptions": {
        "customPlotOptions": {},
        "displayType": "table",
        "pivotAggregation": null,
        "pivotColumns": null,
        "xColumns": null,
        "yColumns": null
       },
       "removedWidgets": [],
       "schema": [
        {
         "metadata": "{}",
         "name": "name",
         "type": "\"string\""
        },
        {
         "metadata": "{}",
         "name": "id",
         "type": "\"string\""
        }
       ],
       "type": "table"
      }
     },
     "output_type": "display_data"
    },
    {
     "output_type": "display_data",
     "data": {
      "text/html": [
       "<style scoped>\n",
       "  .table-result-container {\n",
       "    max-height: 300px;\n",
       "    overflow: auto;\n",
       "  }\n",
       "  table, th, td {\n",
       "    border: 1px solid black;\n",
       "    border-collapse: collapse;\n",
       "  }\n",
       "  th, td {\n",
       "    padding: 5px;\n",
       "  }\n",
       "  th {\n",
       "    text-align: left;\n",
       "  }\n",
       "</style><div class='table-result-container'><table class='table-result'><thead style='background-color: white'><tr><th>id</th><th>name</th></tr></thead><tbody><tr><td>1</td><td>Shreyas</td></tr><tr><td>2</td><td>Ram</td></tr><tr><td>3</td><td>Vivek</td></tr><tr><td>4</td><td>Himani</td></tr></tbody></table></div>"
      ]
     },
     "metadata": {
      "application/vnd.databricks.v1+output": {
       "addedWidgets": {},
       "aggData": [],
       "aggError": "",
       "aggOverflow": false,
       "aggSchema": [],
       "aggSeriesLimitReached": false,
       "aggType": "",
       "arguments": {},
       "columnCustomDisplayInfos": {},
       "data": [
        [
         "1",
         "Shreyas"
        ],
        [
         "2",
         "Ram"
        ],
        [
         "3",
         "Vivek"
        ],
        [
         "4",
         "Himani"
        ]
       ],
       "datasetInfos": [],
       "dbfsResultPath": null,
       "isJsonSchema": true,
       "metadata": {},
       "overflow": false,
       "plotOptions": {
        "customPlotOptions": {},
        "displayType": "table",
        "pivotAggregation": null,
        "pivotColumns": null,
        "xColumns": null,
        "yColumns": null
       },
       "removedWidgets": [],
       "schema": [
        {
         "metadata": "{}",
         "name": "id",
         "type": "\"string\""
        },
        {
         "metadata": "{}",
         "name": "name",
         "type": "\"string\""
        }
       ],
       "type": "table"
      }
     },
     "output_type": "display_data"
    }
   ],
   "source": [
    "#Creating Data frames\n",
    "\n",
    "data1=[('1','Shreyas'),('2','Ram')]\n",
    "schema1='id String, name String'\n",
    "\n",
    "df1=spark.createDataFrame(data1,schema1)\n",
    "\n",
    "\n",
    "data2=[('3','Vivek'),('4','Kumar')]\n",
    "schema2='id String,name String'\n",
    "\n",
    "df2=spark.createDataFrame(data2,schema2)\n",
    "\n",
    "#Using Union\n",
    "df1.union(df2).display()\n",
    "\n",
    "#Creating the data frame\n",
    "data2=[('Vivek','3'),('Himani','4')]\n",
    "schema2='name String,id String'\n",
    "\n",
    "df2=spark.createDataFrame(data2,schema2)\n",
    "df2.display()\n",
    "\n",
    "#Using UnionByName\n",
    "df1.unionByName(df2).display()\n",
    "#Since There is a mismatch we are using the UnionByName"
   ]
  },
  {
   "cell_type": "markdown",
   "metadata": {
    "application/vnd.databricks.v1+cell": {
     "cellMetadata": {},
     "inputWidgets": {},
     "nuid": "de559693-4c4c-4cba-bb36-44892df5cea3",
     "showTitle": false,
     "tableResultSettingsMap": {},
     "title": ""
    }
   },
   "source": [
    "### String Functions"
   ]
  },
  {
   "cell_type": "code",
   "execution_count": 0,
   "metadata": {
    "application/vnd.databricks.v1+cell": {
     "cellMetadata": {},
     "inputWidgets": {},
     "nuid": "fdb433d2-6b86-48f2-977c-e8464dd37046",
     "showTitle": false,
     "tableResultSettingsMap": {},
     "title": ""
    }
   },
   "outputs": [],
   "source": [
    "#Using initcap \n",
    "\n",
    "df.select(initcap('Item_type')).display()\n",
    "df.select(lower('Item_type')).display()\n",
    "df.select(upper('Item_type')).display()\n",
    "df.select(initcap('Item_type').alias(\"Upper_name\")).display()\n"
   ]
  },
  {
   "cell_type": "markdown",
   "metadata": {
    "application/vnd.databricks.v1+cell": {
     "cellMetadata": {},
     "inputWidgets": {},
     "nuid": "1024fbf0-910b-4f86-ba0a-14d9479305a9",
     "showTitle": false,
     "tableResultSettingsMap": {},
     "title": ""
    }
   },
   "source": [
    "### Date Functions\n",
    "- Current_date()\n",
    "- date_add() or date_sub()\n",
    "- date_diff()\n",
    "- date_format()"
   ]
  },
  {
   "cell_type": "code",
   "execution_count": 0,
   "metadata": {
    "application/vnd.databricks.v1+cell": {
     "cellMetadata": {},
     "inputWidgets": {},
     "nuid": "6836562a-da19-48c3-8f3b-02f418342f04",
     "showTitle": false,
     "tableResultSettingsMap": {},
     "title": ""
    }
   },
   "outputs": [],
   "source": [
    "df=df.withColumn('CurrentDate',current_date())\n",
    "df=df.withColumn('added_date',date_add('CurrentDate',7))\n",
    "df=df.withColumn('SubstractedDate',date_sub('currentDate',7))\n",
    "df=df.withColumn('Date_difference',datediff('substractedDate','added_date'))\n",
    "df=df.withColumn('formatted_date',date_format('SubstractedDate','MM-dd-yyyy'))"
   ]
  },
  {
   "cell_type": "markdown",
   "metadata": {
    "application/vnd.databricks.v1+cell": {
     "cellMetadata": {},
     "inputWidgets": {},
     "nuid": "ebb7e93d-08bd-4657-89fb-01d1308d26cf",
     "showTitle": false,
     "tableResultSettingsMap": {},
     "title": ""
    }
   },
   "source": [
    "### Handling null\n",
    "- fillna() function\n",
    "- dropna() function"
   ]
  },
  {
   "cell_type": "code",
   "execution_count": 0,
   "metadata": {
    "application/vnd.databricks.v1+cell": {
     "cellMetadata": {},
     "inputWidgets": {},
     "nuid": "20ef6c2f-4e25-4b2f-902e-4c48972677a6",
     "showTitle": false,
     "tableResultSettingsMap": {},
     "title": ""
    }
   },
   "outputs": [],
   "source": [
    "df.dropna('all').display()\n",
    "df.dropna('any').display()\n",
    "df.dropna(subset=['Item_weight']).display()\n",
    "df.fillna('Not Exist').display() #Only applicable for StringType\n",
    "df.fillna(0).display() #Applicable for IntegerType\n",
    "df.fillna('NA',subset=['outlet_size']).display()"
   ]
  },
  {
   "cell_type": "markdown",
   "metadata": {
    "application/vnd.databricks.v1+cell": {
     "cellMetadata": {},
     "inputWidgets": {},
     "nuid": "51089f92-b4b1-40cb-9ba3-8a7afc996aa1",
     "showTitle": false,
     "tableResultSettingsMap": {},
     "title": ""
    }
   },
   "source": [
    "### Split and Indexing"
   ]
  },
  {
   "cell_type": "code",
   "execution_count": 0,
   "metadata": {
    "application/vnd.databricks.v1+cell": {
     "cellMetadata": {},
     "inputWidgets": {},
     "nuid": "d8401284-bd3d-427b-961c-d4128bc40c70",
     "showTitle": false,
     "tableResultSettingsMap": {},
     "title": ""
    }
   },
   "outputs": [],
   "source": [
    "df.withColumn('outlet_type',split('outlet_type',' ')).display() #Here Space ' ' is a delimiter\n",
    "df.withColumn('Outlet_type',split('outlet_type',' ')[1]).display()"
   ]
  },
  {
   "cell_type": "markdown",
   "metadata": {
    "application/vnd.databricks.v1+cell": {
     "cellMetadata": {},
     "inputWidgets": {},
     "nuid": "bdf90404-a163-48ba-95a9-58e80fd0478b",
     "showTitle": false,
     "tableResultSettingsMap": {},
     "title": ""
    }
   },
   "source": [
    "### Explode and Array_Contains"
   ]
  },
  {
   "cell_type": "code",
   "execution_count": 0,
   "metadata": {
    "application/vnd.databricks.v1+cell": {
     "cellMetadata": {},
     "inputWidgets": {},
     "nuid": "64f2d570-67b9-4fec-91ec-9ecf80410d0d",
     "showTitle": false,
     "tableResultSettingsMap": {},
     "title": ""
    }
   },
   "outputs": [],
   "source": [
    "dataf.withColumn('outlet_type',explode('outlet_type')).display()\n",
    "dataf.withColumn('ContainsinList',array_contains('outlet_type','Type1')).display() #Return boolean values\n"
   ]
  },
  {
   "cell_type": "markdown",
   "metadata": {
    "application/vnd.databricks.v1+cell": {
     "cellMetadata": {},
     "inputWidgets": {},
     "nuid": "6f579a64-99d1-4108-bf9c-38893937a4e5",
     "showTitle": false,
     "tableResultSettingsMap": {},
     "title": ""
    }
   },
   "source": [
    "### Data Aggregation\n",
    "- GroupBy"
   ]
  },
  {
   "cell_type": "code",
   "execution_count": 0,
   "metadata": {
    "application/vnd.databricks.v1+cell": {
     "cellMetadata": {},
     "inputWidgets": {},
     "nuid": "4b2c6fbc-ea8f-400d-a2de-0a3cf51fecaf",
     "showTitle": false,
     "tableResultSettingsMap": {},
     "title": ""
    }
   },
   "outputs": [],
   "source": [
    "df.groupBy('Item_type').agg(sum('iTEM_MRP').alias(\"Total_cost\"),avg('iTEM_MRP')).display()\n",
    "df.groupBy('Item_type','Item_Fat_content').agg(round(sum('item_mrp'),2),avg('item_mrp')).show()\n"
   ]
  },
  {
   "cell_type": "markdown",
   "metadata": {
    "application/vnd.databricks.v1+cell": {
     "cellMetadata": {},
     "inputWidgets": {},
     "nuid": "7e1b7b8f-b429-45b9-bba4-a2f1a464cbfc",
     "showTitle": false,
     "tableResultSettingsMap": {},
     "title": ""
    }
   },
   "source": [
    "### CollectList"
   ]
  },
  {
   "cell_type": "code",
   "execution_count": 0,
   "metadata": {
    "application/vnd.databricks.v1+cell": {
     "cellMetadata": {
      "byteLimit": 2048000,
      "rowLimit": 10000
     },
     "inputWidgets": {},
     "nuid": "64d30d3b-8c6f-43f7-b5a5-f6c92e74be0b",
     "showTitle": false,
     "tableResultSettingsMap": {},
     "title": ""
    }
   },
   "outputs": [
    {
     "output_type": "display_data",
     "data": {
      "text/html": [
       "<style scoped>\n",
       "  .table-result-container {\n",
       "    max-height: 300px;\n",
       "    overflow: auto;\n",
       "  }\n",
       "  table, th, td {\n",
       "    border: 1px solid black;\n",
       "    border-collapse: collapse;\n",
       "  }\n",
       "  th, td {\n",
       "    padding: 5px;\n",
       "  }\n",
       "  th {\n",
       "    text-align: left;\n",
       "  }\n",
       "</style><div class='table-result-container'><table class='table-result'><thead style='background-color: white'><tr><th>user</th><th>book</th></tr></thead><tbody><tr><td>user1</td><td>book1</td></tr><tr><td>user1</td><td>book2</td></tr><tr><td>user2</td><td>book2</td></tr><tr><td>user2</td><td>book4</td></tr><tr><td>user3</td><td>book1</td></tr></tbody></table></div>"
      ]
     },
     "metadata": {
      "application/vnd.databricks.v1+output": {
       "addedWidgets": {},
       "aggData": [],
       "aggError": "",
       "aggOverflow": false,
       "aggSchema": [],
       "aggSeriesLimitReached": false,
       "aggType": "",
       "arguments": {},
       "columnCustomDisplayInfos": {},
       "data": [
        [
         "user1",
         "book1"
        ],
        [
         "user1",
         "book2"
        ],
        [
         "user2",
         "book2"
        ],
        [
         "user2",
         "book4"
        ],
        [
         "user3",
         "book1"
        ]
       ],
       "datasetInfos": [],
       "dbfsResultPath": null,
       "isJsonSchema": true,
       "metadata": {},
       "overflow": false,
       "plotOptions": {
        "customPlotOptions": {},
        "displayType": "table",
        "pivotAggregation": null,
        "pivotColumns": null,
        "xColumns": null,
        "yColumns": null
       },
       "removedWidgets": [],
       "schema": [
        {
         "metadata": "{}",
         "name": "user",
         "type": "\"string\""
        },
        {
         "metadata": "{}",
         "name": "book",
         "type": "\"string\""
        }
       ],
       "type": "table"
      }
     },
     "output_type": "display_data"
    },
    {
     "output_type": "display_data",
     "data": {
      "text/html": [
       "<style scoped>\n",
       "  .table-result-container {\n",
       "    max-height: 300px;\n",
       "    overflow: auto;\n",
       "  }\n",
       "  table, th, td {\n",
       "    border: 1px solid black;\n",
       "    border-collapse: collapse;\n",
       "  }\n",
       "  th, td {\n",
       "    padding: 5px;\n",
       "  }\n",
       "  th {\n",
       "    text-align: left;\n",
       "  }\n",
       "</style><div class='table-result-container'><table class='table-result'><thead style='background-color: white'><tr><th>user</th><th>list</th></tr></thead><tbody><tr><td>user1</td><td>List(book1, book2)</td></tr><tr><td>user2</td><td>List(book2, book4)</td></tr><tr><td>user3</td><td>List(book1)</td></tr></tbody></table></div>"
      ]
     },
     "metadata": {
      "application/vnd.databricks.v1+output": {
       "addedWidgets": {},
       "aggData": [],
       "aggError": "",
       "aggOverflow": false,
       "aggSchema": [],
       "aggSeriesLimitReached": false,
       "aggType": "",
       "arguments": {},
       "columnCustomDisplayInfos": {},
       "data": [
        [
         "user1",
         [
          "book1",
          "book2"
         ]
        ],
        [
         "user2",
         [
          "book2",
          "book4"
         ]
        ],
        [
         "user3",
         [
          "book1"
         ]
        ]
       ],
       "datasetInfos": [],
       "dbfsResultPath": null,
       "isJsonSchema": true,
       "metadata": {},
       "overflow": false,
       "plotOptions": {
        "customPlotOptions": {},
        "displayType": "table",
        "pivotAggregation": null,
        "pivotColumns": null,
        "xColumns": null,
        "yColumns": null
       },
       "removedWidgets": [],
       "schema": [
        {
         "metadata": "{}",
         "name": "user",
         "type": "\"string\""
        },
        {
         "metadata": "{}",
         "name": "list",
         "type": "{\"type\":\"array\",\"elementType\":\"string\",\"containsNull\":false}"
        }
       ],
       "type": "table"
      }
     },
     "output_type": "display_data"
    }
   ],
   "source": [
    "data = [('user1','book1'),\n",
    "        ('user1','book2'),\n",
    "        ('user2','book2'),\n",
    "        ('user2','book4'),\n",
    "        ('user3','book1')]\n",
    "\n",
    "schema = 'user string, book string'\n",
    "\n",
    "df_book = spark.createDataFrame(data,schema)\n",
    "\n",
    "df_book.display()\n",
    "\n",
    "\n",
    "df_book.groupBy('user').agg(collect_list('book').alias(\"list\")).display()"
   ]
  },
  {
   "cell_type": "markdown",
   "metadata": {
    "application/vnd.databricks.v1+cell": {
     "cellMetadata": {},
     "inputWidgets": {},
     "nuid": "9498b9f8-aada-4653-bfda-35885117fdb1",
     "showTitle": false,
     "tableResultSettingsMap": {},
     "title": ""
    }
   },
   "source": [
    "### Pivot"
   ]
  },
  {
   "cell_type": "code",
   "execution_count": 0,
   "metadata": {
    "application/vnd.databricks.v1+cell": {
     "cellMetadata": {},
     "inputWidgets": {},
     "nuid": "b8d2e511-c8b3-4cfe-a37b-c66eeebda9ba",
     "showTitle": false,
     "tableResultSettingsMap": {},
     "title": ""
    }
   },
   "outputs": [],
   "source": [
    "\n",
    "df.groupBy('Item_type').pivot('outlet_size').agg(sum('item_mrp')).display()\n"
   ]
  },
  {
   "cell_type": "markdown",
   "metadata": {
    "application/vnd.databricks.v1+cell": {
     "cellMetadata": {},
     "inputWidgets": {},
     "nuid": "e841fab6-1b15-4709-bdb9-c49a00e6a0d0",
     "showTitle": false,
     "tableResultSettingsMap": {},
     "title": ""
    }
   },
   "source": [
    "### When_Otherwise"
   ]
  },
  {
   "cell_type": "code",
   "execution_count": 0,
   "metadata": {
    "application/vnd.databricks.v1+cell": {
     "cellMetadata": {},
     "inputWidgets": {},
     "nuid": "bb41c05a-c82a-43f8-ae10-a556fd2b020b",
     "showTitle": false,
     "tableResultSettingsMap": {},
     "title": ""
    }
   },
   "outputs": [],
   "source": [
    "df5=df.withColumn('vegornonveg',when(col('item_type')=='Meat','NON-VEG').otherwise('VEG')).display()"
   ]
  },
  {
   "cell_type": "markdown",
   "metadata": {
    "application/vnd.databricks.v1+cell": {
     "cellMetadata": {},
     "inputWidgets": {},
     "nuid": "b59ecda6-c33d-439c-89fd-91e66edf6827",
     "showTitle": false,
     "tableResultSettingsMap": {},
     "title": ""
    }
   },
   "source": [
    "### Joins\n",
    "- inner\n",
    "- left and right\n",
    "- anti"
   ]
  },
  {
   "cell_type": "code",
   "execution_count": 0,
   "metadata": {
    "application/vnd.databricks.v1+cell": {
     "cellMetadata": {
      "byteLimit": 2048000,
      "rowLimit": 10000
     },
     "inputWidgets": {},
     "nuid": "1e9a2e64-8bc5-43f1-83cb-44720eecba93",
     "showTitle": false,
     "tableResultSettingsMap": {},
     "title": ""
    }
   },
   "outputs": [
    {
     "output_type": "display_data",
     "data": {
      "text/html": [
       "<style scoped>\n",
       "  .table-result-container {\n",
       "    max-height: 300px;\n",
       "    overflow: auto;\n",
       "  }\n",
       "  table, th, td {\n",
       "    border: 1px solid black;\n",
       "    border-collapse: collapse;\n",
       "  }\n",
       "  th, td {\n",
       "    padding: 5px;\n",
       "  }\n",
       "  th {\n",
       "    text-align: left;\n",
       "  }\n",
       "</style><div class='table-result-container'><table class='table-result'><thead style='background-color: white'><tr><th>emp_id</th><th>emp_name</th><th>dept_id</th><th>dept_id</th><th>department</th></tr></thead><tbody><tr><td>1</td><td>gaur</td><td>d01</td><td>d01</td><td>HR</td></tr><tr><td>2</td><td>kit</td><td>d02</td><td>d02</td><td>Marketing</td></tr><tr><td>3</td><td>sam</td><td>d03</td><td>d03</td><td>Accounts</td></tr><tr><td>4</td><td>tim</td><td>d03</td><td>d03</td><td>Accounts</td></tr><tr><td>5</td><td>aman</td><td>d05</td><td>d05</td><td>Finance</td></tr></tbody></table></div>"
      ]
     },
     "metadata": {
      "application/vnd.databricks.v1+output": {
       "addedWidgets": {},
       "aggData": [],
       "aggError": "",
       "aggOverflow": false,
       "aggSchema": [],
       "aggSeriesLimitReached": false,
       "aggType": "",
       "arguments": {},
       "columnCustomDisplayInfos": {},
       "data": [
        [
         "1",
         "gaur",
         "d01",
         "d01",
         "HR"
        ],
        [
         "2",
         "kit",
         "d02",
         "d02",
         "Marketing"
        ],
        [
         "3",
         "sam",
         "d03",
         "d03",
         "Accounts"
        ],
        [
         "4",
         "tim",
         "d03",
         "d03",
         "Accounts"
        ],
        [
         "5",
         "aman",
         "d05",
         "d05",
         "Finance"
        ]
       ],
       "datasetInfos": [],
       "dbfsResultPath": null,
       "isJsonSchema": true,
       "metadata": {},
       "overflow": false,
       "plotOptions": {
        "customPlotOptions": {},
        "displayType": "table",
        "pivotAggregation": null,
        "pivotColumns": null,
        "xColumns": null,
        "yColumns": null
       },
       "removedWidgets": [],
       "schema": [
        {
         "metadata": "{}",
         "name": "emp_id",
         "type": "\"string\""
        },
        {
         "metadata": "{}",
         "name": "emp_name",
         "type": "\"string\""
        },
        {
         "metadata": "{}",
         "name": "dept_id",
         "type": "\"string\""
        },
        {
         "metadata": "{}",
         "name": "dept_id",
         "type": "\"string\""
        },
        {
         "metadata": "{}",
         "name": "department",
         "type": "\"string\""
        }
       ],
       "type": "table"
      }
     },
     "output_type": "display_data"
    },
    {
     "output_type": "display_data",
     "data": {
      "text/html": [
       "<style scoped>\n",
       "  .table-result-container {\n",
       "    max-height: 300px;\n",
       "    overflow: auto;\n",
       "  }\n",
       "  table, th, td {\n",
       "    border: 1px solid black;\n",
       "    border-collapse: collapse;\n",
       "  }\n",
       "  th, td {\n",
       "    padding: 5px;\n",
       "  }\n",
       "  th {\n",
       "    text-align: left;\n",
       "  }\n",
       "</style><div class='table-result-container'><table class='table-result'><thead style='background-color: white'><tr><th>emp_id</th><th>emp_name</th><th>dept_id</th><th>dept_id</th><th>department</th></tr></thead><tbody><tr><td>1</td><td>gaur</td><td>d01</td><td>d01</td><td>HR</td></tr><tr><td>2</td><td>kit</td><td>d02</td><td>d02</td><td>Marketing</td></tr><tr><td>3</td><td>sam</td><td>d03</td><td>d03</td><td>Accounts</td></tr><tr><td>4</td><td>tim</td><td>d03</td><td>d03</td><td>Accounts</td></tr><tr><td>5</td><td>aman</td><td>d05</td><td>d05</td><td>Finance</td></tr><tr><td>6</td><td>nad</td><td>d06</td><td>null</td><td>null</td></tr></tbody></table></div>"
      ]
     },
     "metadata": {
      "application/vnd.databricks.v1+output": {
       "addedWidgets": {},
       "aggData": [],
       "aggError": "",
       "aggOverflow": false,
       "aggSchema": [],
       "aggSeriesLimitReached": false,
       "aggType": "",
       "arguments": {},
       "columnCustomDisplayInfos": {},
       "data": [
        [
         "1",
         "gaur",
         "d01",
         "d01",
         "HR"
        ],
        [
         "2",
         "kit",
         "d02",
         "d02",
         "Marketing"
        ],
        [
         "3",
         "sam",
         "d03",
         "d03",
         "Accounts"
        ],
        [
         "4",
         "tim",
         "d03",
         "d03",
         "Accounts"
        ],
        [
         "5",
         "aman",
         "d05",
         "d05",
         "Finance"
        ],
        [
         "6",
         "nad",
         "d06",
         null,
         null
        ]
       ],
       "datasetInfos": [],
       "dbfsResultPath": null,
       "isJsonSchema": true,
       "metadata": {},
       "overflow": false,
       "plotOptions": {
        "customPlotOptions": {},
        "displayType": "table",
        "pivotAggregation": null,
        "pivotColumns": null,
        "xColumns": null,
        "yColumns": null
       },
       "removedWidgets": [],
       "schema": [
        {
         "metadata": "{}",
         "name": "emp_id",
         "type": "\"string\""
        },
        {
         "metadata": "{}",
         "name": "emp_name",
         "type": "\"string\""
        },
        {
         "metadata": "{}",
         "name": "dept_id",
         "type": "\"string\""
        },
        {
         "metadata": "{}",
         "name": "dept_id",
         "type": "\"string\""
        },
        {
         "metadata": "{}",
         "name": "department",
         "type": "\"string\""
        }
       ],
       "type": "table"
      }
     },
     "output_type": "display_data"
    },
    {
     "output_type": "display_data",
     "data": {
      "text/html": [
       "<style scoped>\n",
       "  .table-result-container {\n",
       "    max-height: 300px;\n",
       "    overflow: auto;\n",
       "  }\n",
       "  table, th, td {\n",
       "    border: 1px solid black;\n",
       "    border-collapse: collapse;\n",
       "  }\n",
       "  th, td {\n",
       "    padding: 5px;\n",
       "  }\n",
       "  th {\n",
       "    text-align: left;\n",
       "  }\n",
       "</style><div class='table-result-container'><table class='table-result'><thead style='background-color: white'><tr><th>emp_id</th><th>emp_name</th><th>dept_id</th></tr></thead><tbody><tr><td>6</td><td>nad</td><td>d06</td></tr></tbody></table></div>"
      ]
     },
     "metadata": {
      "application/vnd.databricks.v1+output": {
       "addedWidgets": {},
       "aggData": [],
       "aggError": "",
       "aggOverflow": false,
       "aggSchema": [],
       "aggSeriesLimitReached": false,
       "aggType": "",
       "arguments": {},
       "columnCustomDisplayInfos": {},
       "data": [
        [
         "6",
         "nad",
         "d06"
        ]
       ],
       "datasetInfos": [],
       "dbfsResultPath": null,
       "isJsonSchema": true,
       "metadata": {},
       "overflow": false,
       "plotOptions": {
        "customPlotOptions": {},
        "displayType": "table",
        "pivotAggregation": null,
        "pivotColumns": null,
        "xColumns": null,
        "yColumns": null
       },
       "removedWidgets": [],
       "schema": [
        {
         "metadata": "{}",
         "name": "emp_id",
         "type": "\"string\""
        },
        {
         "metadata": "{}",
         "name": "emp_name",
         "type": "\"string\""
        },
        {
         "metadata": "{}",
         "name": "dept_id",
         "type": "\"string\""
        }
       ],
       "type": "table"
      }
     },
     "output_type": "display_data"
    }
   ],
   "source": [
    "dataj1 = [('1','gaur','d01'),\n",
    "          ('2','kit','d02'),\n",
    "          ('3','sam','d03'),\n",
    "          ('4','tim','d03'),\n",
    "          ('5','aman','d05'),\n",
    "          ('6','nad','d06')] \n",
    "\n",
    "schemaj1 = 'emp_id STRING, emp_name STRING, dept_id STRING' \n",
    "\n",
    "df1 = spark.createDataFrame(dataj1,schemaj1)\n",
    "\n",
    "dataj2 = [('d01','HR'),\n",
    "          ('d02','Marketing'),\n",
    "          ('d03','Accounts'),\n",
    "          ('d04','IT'),\n",
    "          ('d05','Finance')]\n",
    "\n",
    "schemaj2 = 'dept_id STRING, department STRING'\n",
    "\n",
    "df2 = spark.createDataFrame(dataj2,schemaj2)\n",
    "\n",
    "\n",
    "df1.join(df2,df1['dept_id']==df2['dept_id'],'inner').display()\n",
    "df1.join(df2,df1['dept_id']==df2['dept_id'],'left').display()\n",
    "df1.join(df2,df1['dept_id']==df2['dept_id'],'anti').display()"
   ]
  },
  {
   "cell_type": "markdown",
   "metadata": {
    "application/vnd.databricks.v1+cell": {
     "cellMetadata": {},
     "inputWidgets": {},
     "nuid": "c1b81147-184d-47f2-92cb-2a5e9a3261f8",
     "showTitle": false,
     "tableResultSettingsMap": {},
     "title": ""
    }
   },
   "source": [
    "### Row Functions\n",
    "- Rownum()\n",
    "- Rank()\n",
    "- DenseRank()"
   ]
  },
  {
   "cell_type": "code",
   "execution_count": 0,
   "metadata": {
    "application/vnd.databricks.v1+cell": {
     "cellMetadata": {},
     "inputWidgets": {},
     "nuid": "32549ecd-6208-4c2e-b7b8-e49c7a45bb81",
     "showTitle": false,
     "tableResultSettingsMap": {},
     "title": ""
    }
   },
   "outputs": [],
   "source": [
    "#Importing the libraries\n",
    "\n",
    "from pyspark.sql.window import Window\n",
    "\n",
    "#row_number\n",
    "df.withColumn('rownumber',row_number().over(Window.orderBy('Item_Identifier'))).display()\n",
    "\n",
    "#Rank and Dense Rank\n",
    "\n",
    "df.withColumn('rank',rank().over(Window.orderBy(col('Item_identifier').desc())))\\\n",
    "    .withColumn('dense_rank',dense_rank().over(Window.orderBy(col('item_identifier').desc())))\\\n",
    "        .display()\n",
    "\n",
    "\n"
   ]
  },
  {
   "cell_type": "markdown",
   "metadata": {
    "application/vnd.databricks.v1+cell": {
     "cellMetadata": {},
     "inputWidgets": {},
     "nuid": "6b040df3-a7e5-4192-b001-236ab487e74b",
     "showTitle": false,
     "tableResultSettingsMap": {},
     "title": ""
    }
   },
   "source": [
    "### Cummulative Sum"
   ]
  },
  {
   "cell_type": "code",
   "execution_count": 0,
   "metadata": {
    "application/vnd.databricks.v1+cell": {
     "cellMetadata": {},
     "inputWidgets": {},
     "nuid": "5e6a466a-8f73-4580-ba71-e129b7a96878",
     "showTitle": false,
     "tableResultSettingsMap": {},
     "title": ""
    }
   },
   "outputs": [],
   "source": [
    "df.withColumn('Cummulative_Sum',round(sum('Item_MRP').over(Window.orderBy('Item_Identifier').rowsBetween(Window.unboundedPreceding,Window.currentRow)),2)).display()\n"
   ]
  },
  {
   "cell_type": "markdown",
   "metadata": {
    "application/vnd.databricks.v1+cell": {
     "cellMetadata": {},
     "inputWidgets": {},
     "nuid": "6fb8b754-fbc4-43db-afb0-93fd364465b2",
     "showTitle": false,
     "tableResultSettingsMap": {},
     "title": ""
    }
   },
   "source": [
    "### User Defined Functions (UDF)"
   ]
  },
  {
   "cell_type": "code",
   "execution_count": 0,
   "metadata": {
    "application/vnd.databricks.v1+cell": {
     "cellMetadata": {
      "byteLimit": 2048000,
      "rowLimit": 10000
     },
     "inputWidgets": {},
     "nuid": "412aea8a-5bb5-48df-96b8-bb749a4d00dc",
     "showTitle": false,
     "tableResultSettingsMap": {},
     "title": ""
    }
   },
   "outputs": [],
   "source": [
    "def my_function(x):\n",
    "  return x*x\n",
    "\n",
    "my_user = udf(my_function)\n",
    "\n",
    "df.withColumn('User_def_fun',my_user('Item_outlet_sales')).display()"
   ]
  },
  {
   "cell_type": "markdown",
   "metadata": {
    "application/vnd.databricks.v1+cell": {
     "cellMetadata": {},
     "inputWidgets": {},
     "nuid": "74321f43-ca0d-4bfb-873e-cb1c1c7ae902",
     "showTitle": false,
     "tableResultSettingsMap": {},
     "title": ""
    }
   },
   "source": [
    "### Data Writing\n",
    "- Append\n",
    "- Overwrite\n",
    "- Error\n",
    "- Ignore"
   ]
  },
  {
   "cell_type": "code",
   "execution_count": 0,
   "metadata": {
    "application/vnd.databricks.v1+cell": {
     "cellMetadata": {},
     "inputWidgets": {},
     "nuid": "69970415-fefd-496b-b849-32f675bcf710",
     "showTitle": false,
     "tableResultSettingsMap": {},
     "title": ""
    }
   },
   "outputs": [],
   "source": [
    "df.write.format('csv').save('/FileStore/tables/CSV/data.csv')\n",
    "\n",
    "#Append\n",
    "\n",
    "df.write.format('csv')\\\n",
    "    .mode('append')\\\n",
    "    .option('path','/FileStore/tables/CSV/data.csv')\\\n",
    "    .save()\n",
    "\n",
    "\n",
    "#overwrite\n",
    "df.write.format('csv')\\\n",
    "    .mode('overwrite')\\\n",
    "        .save('/FileStore/Tables/CSV/data.csv')\n",
    "\n",
    "#ignore\n",
    "\n",
    "#overwrite\n",
    "df.write.format('csv')\\\n",
    "    .mode('ignore')\\\n",
    "        .save('/FileStore/Tables/CSV/data.csv')\n",
    "\n",
    "#Error\n",
    "df.write.format('csv')\\\n",
    "    .mode('error')\\\n",
    "        .save('/FileStore/Tables/CSV/data.csv')  \n",
    "#We can see the error because the file is already exists."
   ]
  },
  {
   "cell_type": "markdown",
   "metadata": {
    "application/vnd.databricks.v1+cell": {
     "cellMetadata": {},
     "inputWidgets": {},
     "nuid": "a453dc5d-aef5-4421-80fe-2d6ec2541048",
     "showTitle": false,
     "tableResultSettingsMap": {},
     "title": ""
    }
   },
   "source": [
    "### Parquet File Format"
   ]
  },
  {
   "cell_type": "code",
   "execution_count": 0,
   "metadata": {
    "application/vnd.databricks.v1+cell": {
     "cellMetadata": {
      "byteLimit": 2048000,
      "rowLimit": 10000
     },
     "inputWidgets": {},
     "nuid": "c9bf88ab-1b45-435c-8598-39c6ebe233c3",
     "showTitle": false,
     "tableResultSettingsMap": {},
     "title": ""
    }
   },
   "outputs": [],
   "source": [
    "df.write.format('parquet').mode('overwrite').save('\\Filestore/tables/CSV/data.csv')"
   ]
  },
  {
   "cell_type": "markdown",
   "metadata": {
    "application/vnd.databricks.v1+cell": {
     "cellMetadata": {},
     "inputWidgets": {},
     "nuid": "abaff20a-78a1-42e9-820c-a8ad82683470",
     "showTitle": false,
     "tableResultSettingsMap": {},
     "title": ""
    }
   },
   "source": [
    "### Table"
   ]
  },
  {
   "cell_type": "code",
   "execution_count": 0,
   "metadata": {
    "application/vnd.databricks.v1+cell": {
     "cellMetadata": {
      "byteLimit": 2048000,
      "rowLimit": 10000
     },
     "inputWidgets": {},
     "nuid": "f5b743a7-17c1-4f0d-8064-fbd14779c0e8",
     "showTitle": false,
     "tableResultSettingsMap": {},
     "title": ""
    }
   },
   "outputs": [],
   "source": [
    "df.write.format('parquet').mode('overwrite').saveAsTable('My_Table')"
   ]
  },
  {
   "cell_type": "markdown",
   "metadata": {
    "application/vnd.databricks.v1+cell": {
     "cellMetadata": {},
     "inputWidgets": {},
     "nuid": "837c6f16-dffa-4967-bf4c-364c7d60ed4c",
     "showTitle": false,
     "tableResultSettingsMap": {},
     "title": ""
    }
   },
   "source": [
    "## Spark SQL\n",
    "### Creating a Temporary view"
   ]
  },
  {
   "cell_type": "code",
   "execution_count": 0,
   "metadata": {
    "application/vnd.databricks.v1+cell": {
     "cellMetadata": {
      "byteLimit": 2048000,
      "rowLimit": 10000
     },
     "inputWidgets": {},
     "nuid": "cc39888e-5604-4cfc-ad4c-dad65b4fd710",
     "showTitle": false,
     "tableResultSettingsMap": {},
     "title": ""
    }
   },
   "outputs": [],
   "source": [
    "df.createTempView('view')\n"
   ]
  },
  {
   "cell_type": "code",
   "execution_count": 0,
   "metadata": {
    "application/vnd.databricks.v1+cell": {
     "cellMetadata": {
      "byteLimit": 2048000,
      "implicitDf": true,
      "rowLimit": 10000
     },
     "inputWidgets": {},
     "nuid": "a5a5bb67-6f6e-4c36-871f-d2983081cf0c",
     "showTitle": false,
     "tableResultSettingsMap": {},
     "title": ""
    }
   },
   "outputs": [
    {
     "output_type": "display_data",
     "data": {
      "text/html": [
       "<style scoped>\n",
       "  .table-result-container {\n",
       "    max-height: 300px;\n",
       "    overflow: auto;\n",
       "  }\n",
       "  table, th, td {\n",
       "    border: 1px solid black;\n",
       "    border-collapse: collapse;\n",
       "  }\n",
       "  th, td {\n",
       "    padding: 5px;\n",
       "  }\n",
       "  th {\n",
       "    text-align: left;\n",
       "  }\n",
       "</style><div class='table-result-container'><table class='table-result'><thead style='background-color: white'><tr><th>TotalNoOfRecords</th></tr></thead><tbody><tr><td>8523</td></tr></tbody></table></div>"
      ]
     },
     "metadata": {
      "application/vnd.databricks.v1+output": {
       "addedWidgets": {},
       "aggData": [],
       "aggError": "",
       "aggOverflow": false,
       "aggSchema": [],
       "aggSeriesLimitReached": false,
       "aggType": "",
       "arguments": {},
       "columnCustomDisplayInfos": {},
       "data": [
        [
         8523
        ]
       ],
       "datasetInfos": [],
       "dbfsResultPath": null,
       "isJsonSchema": true,
       "metadata": {},
       "overflow": false,
       "plotOptions": {
        "customPlotOptions": {},
        "displayType": "table",
        "pivotAggregation": null,
        "pivotColumns": null,
        "xColumns": null,
        "yColumns": null
       },
       "removedWidgets": [],
       "schema": [
        {
         "metadata": "{}",
         "name": "TotalNoOfRecords",
         "type": "\"long\""
        }
       ],
       "type": "table"
      }
     },
     "output_type": "display_data"
    }
   ],
   "source": [
    "%sql\n",
    "select count(*) AS TotalNoOfRecords from view;"
   ]
  },
  {
   "cell_type": "markdown",
   "metadata": {
    "application/vnd.databricks.v1+cell": {
     "cellMetadata": {},
     "inputWidgets": {},
     "nuid": "787b6283-6204-4a2d-8385-be2c607d9483",
     "showTitle": false,
     "tableResultSettingsMap": {},
     "title": ""
    }
   },
   "source": [
    "### Storing the o/p of SparkSql into a dataframe\n"
   ]
  },
  {
   "cell_type": "code",
   "execution_count": 0,
   "metadata": {
    "application/vnd.databricks.v1+cell": {
     "cellMetadata": {
      "byteLimit": 2048000,
      "rowLimit": 10000
     },
     "inputWidgets": {},
     "nuid": "5cebe8bc-3e3a-440c-bd79-e578d98feecc",
     "showTitle": false,
     "tableResultSettingsMap": {},
     "title": ""
    }
   },
   "outputs": [],
   "source": [
    "df_sql_op=spark.sql(\"select * from view where item_mrp<200\")"
   ]
  }
 ],
 "metadata": {
  "application/vnd.databricks.v1+notebook": {
   "computePreferences": null,
   "dashboards": [],
   "environmentMetadata": {
    "base_environment": "",
    "client": "1"
   },
   "language": "python",
   "notebookMetadata": {
    "mostRecentlyExecutedCommandWithImplicitDF": {
     "commandId": 1267934666865938,
     "dataframes": [
      "_sqldf"
     ]
    },
    "pythonIndentUnit": 4
   },
   "notebookName": "Pyspark",
   "widgets": {}
  }
 },
 "nbformat": 4,
 "nbformat_minor": 0
}
